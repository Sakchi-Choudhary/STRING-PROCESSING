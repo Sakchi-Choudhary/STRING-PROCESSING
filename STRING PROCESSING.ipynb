{
  "nbformat": 4,
  "nbformat_minor": 0,
  "metadata": {
    "colab": {
      "name": "27-07-2020 ML LAB .ipynb",
      "provenance": []
    },
    "kernelspec": {
      "name": "python3",
      "display_name": "Python 3"
    },
    "language_info": {
      "name": "python"
    }
  },
  "cells": [
    {
      "cell_type": "markdown",
      "metadata": {
        "id": "QJQhaPStJnkG"
      },
      "source": [
        "STRING PROCESSING\n"
      ]
    },
    {
      "cell_type": "code",
      "metadata": {
        "id": "-BiF2TRsJtG8"
      },
      "source": [
        "TOPIC=\"Foundation of machine learning\"\n"
      ],
      "execution_count": null,
      "outputs": []
    },
    {
      "cell_type": "code",
      "metadata": {
        "colab": {
          "base_uri": "https://localhost:8080/"
        },
        "id": "DU3QRcPdJ2eq",
        "outputId": "dcb9b718-e680-49f3-e7ee-29d823d5da6d"
      },
      "source": [
        "print (TOPIC)"
      ],
      "execution_count": null,
      "outputs": [
        {
          "output_type": "stream",
          "text": [
            "Foundation of machine learning\n"
          ],
          "name": "stdout"
        }
      ]
    },
    {
      "cell_type": "code",
      "metadata": {
        "colab": {
          "base_uri": "https://localhost:8080/"
        },
        "id": "AEf3QZM3KBga",
        "outputId": "9c668e9e-cec4-446c-f8bc-d49ebfa7dfda"
      },
      "source": [
        "print (TOPIC[-2])\n"
      ],
      "execution_count": null,
      "outputs": [
        {
          "output_type": "stream",
          "text": [
            "n\n"
          ],
          "name": "stdout"
        }
      ]
    },
    {
      "cell_type": "code",
      "metadata": {
        "colab": {
          "base_uri": "https://localhost:8080/"
        },
        "id": "BcukJSZaKJub",
        "outputId": "86ed068b-098c-404f-c470-01a389aa80de"
      },
      "source": [
        "print(TOPIC[0:10])"
      ],
      "execution_count": null,
      "outputs": [
        {
          "output_type": "stream",
          "text": [
            "Foundation\n"
          ],
          "name": "stdout"
        }
      ]
    },
    {
      "cell_type": "code",
      "metadata": {
        "colab": {
          "base_uri": "https://localhost:8080/"
        },
        "id": "d_BZ1SAIKQy6",
        "outputId": "5d1eff95-4a5e-49e5-b929-be93a61160ff"
      },
      "source": [
        "print(TOPIC.lower())"
      ],
      "execution_count": null,
      "outputs": [
        {
          "output_type": "stream",
          "text": [
            "foundation of machine learning\n"
          ],
          "name": "stdout"
        }
      ]
    },
    {
      "cell_type": "code",
      "metadata": {
        "colab": {
          "base_uri": "https://localhost:8080/"
        },
        "id": "oBSvAM2oKe2D",
        "outputId": "f2e07314-e533-42ec-ae6a-684580f3b7c1"
      },
      "source": [
        "print (TOPIC)\n"
      ],
      "execution_count": null,
      "outputs": [
        {
          "output_type": "stream",
          "text": [
            "Foundation of machine learning\n"
          ],
          "name": "stdout"
        }
      ]
    },
    {
      "cell_type": "code",
      "metadata": {
        "id": "E4DxtvujKl_T"
      },
      "source": [
        "TOPIC=(TOPIC.islower())"
      ],
      "execution_count": null,
      "outputs": []
    },
    {
      "cell_type": "code",
      "metadata": {
        "colab": {
          "base_uri": "https://localhost:8080/"
        },
        "id": "6DgBvJe5LEa-",
        "outputId": "47b5e3c5-784d-4122-8fb5-fc1b31ec3476"
      },
      "source": [
        "print (TOPIC)     "
      ],
      "execution_count": null,
      "outputs": [
        {
          "output_type": "stream",
          "text": [
            "False\n"
          ],
          "name": "stdout"
        }
      ]
    },
    {
      "cell_type": "markdown",
      "metadata": {
        "id": "idpyCVeyMR-x"
      },
      "source": [
        "METHODS ON INTERGER\n"
      ]
    },
    {
      "cell_type": "code",
      "metadata": {
        "colab": {
          "base_uri": "https://localhost:8080/"
        },
        "id": "v_L4zBipMaP3",
        "outputId": "805ab7b4-9a5e-46fb-92c0-68648cc494ea"
      },
      "source": [
        "print(55/34)\n"
      ],
      "execution_count": null,
      "outputs": [
        {
          "output_type": "stream",
          "text": [
            "1.6176470588235294\n"
          ],
          "name": "stdout"
        }
      ]
    },
    {
      "cell_type": "code",
      "metadata": {
        "id": "jAuyvRUtMdmQ"
      },
      "source": [
        "golden_ratio=55/34\n"
      ],
      "execution_count": null,
      "outputs": []
    },
    {
      "cell_type": "code",
      "metadata": {
        "colab": {
          "base_uri": "https://localhost:8080/"
        },
        "id": "II9QsbhtMh-Y",
        "outputId": "57a64cbd-f553-42af-d449-03a224d4bd7f"
      },
      "source": [
        "print(type(golden_ratio))"
      ],
      "execution_count": null,
      "outputs": [
        {
          "output_type": "stream",
          "text": [
            "<class 'float'>\n"
          ],
          "name": "stdout"
        }
      ]
    },
    {
      "cell_type": "code",
      "metadata": {
        "colab": {
          "base_uri": "https://localhost:8080/"
        },
        "id": "ScYVI4upMnQw",
        "outputId": "9d5e1f72-e116-4f62-ed05-50a440cd87fc"
      },
      "source": [
        "print(55//34,55/34)"
      ],
      "execution_count": null,
      "outputs": [
        {
          "output_type": "stream",
          "text": [
            "1 1.6176470588235294\n"
          ],
          "name": "stdout"
        }
      ]
    },
    {
      "cell_type": "code",
      "metadata": {
        "colab": {
          "base_uri": "https://localhost:8080/"
        },
        "id": "QDt-yhwVM3CH",
        "outputId": "58a1c95c-e477-41bc-eff0-9942f4b686f9"
      },
      "source": [
        "print(55%34)"
      ],
      "execution_count": null,
      "outputs": [
        {
          "output_type": "stream",
          "text": [
            "21\n"
          ],
          "name": "stdout"
        }
      ]
    },
    {
      "cell_type": "code",
      "metadata": {
        "colab": {
          "base_uri": "https://localhost:8080/"
        },
        "id": "sS3BlMvqM7zZ",
        "outputId": "f82830c2-ba15-4e87-b370-40b8ba15e328"
      },
      "source": [
        "print(2**3)"
      ],
      "execution_count": null,
      "outputs": [
        {
          "output_type": "stream",
          "text": [
            "8\n"
          ],
          "name": "stdout"
        }
      ]
    },
    {
      "cell_type": "code",
      "metadata": {
        "id": "0ZJeGCc8M-nJ"
      },
      "source": [
        ""
      ],
      "execution_count": null,
      "outputs": []
    },
    {
      "cell_type": "code",
      "metadata": {
        "colab": {
          "base_uri": "https://localhost:8080/"
        },
        "id": "DBg9qaYpM-ou",
        "outputId": "cdc3bbc3-a14e-486b-e937-58b094a1e576"
      },
      "source": [
        "a=3\n",
        "b=2\n",
        "print(a*b,a+b,a-b,a//b,a/b,a**b)"
      ],
      "execution_count": null,
      "outputs": [
        {
          "output_type": "stream",
          "text": [
            "6 5 1 1 1.5 9\n"
          ],
          "name": "stdout"
        }
      ]
    },
    {
      "cell_type": "code",
      "metadata": {
        "id": "6LPNLT0gNPVH"
      },
      "source": [
        "is_android= False"
      ],
      "execution_count": null,
      "outputs": []
    },
    {
      "cell_type": "code",
      "metadata": {
        "colab": {
          "base_uri": "https://localhost:8080/"
        },
        "id": "8qC_ej19NTG4",
        "outputId": "7e461c58-95ab-4ee6-c0b7-2576c85edd1f"
      },
      "source": [
        "print(is_android==False)"
      ],
      "execution_count": null,
      "outputs": [
        {
          "output_type": "stream",
          "text": [
            "True\n"
          ],
          "name": "stdout"
        }
      ]
    },
    {
      "cell_type": "code",
      "metadata": {
        "id": "-kAcA5xiNcyg"
      },
      "source": [
        "num_of_speakers=1"
      ],
      "execution_count": null,
      "outputs": []
    },
    {
      "cell_type": "code",
      "metadata": {
        "colab": {
          "base_uri": "https://localhost:8080/"
        },
        "id": "JetTL5n5Nhlo",
        "outputId": "7c22f054-fc92-4af5-b1dd-9f3f36ebf67a"
      },
      "source": [
        "  print(is_android==True and num_of_speakers>1)"
      ],
      "execution_count": null,
      "outputs": [
        {
          "output_type": "stream",
          "text": [
            "False\n"
          ],
          "name": "stdout"
        }
      ]
    },
    {
      "cell_type": "markdown",
      "metadata": {
        "id": "DNPyYy2nNzfX"
      },
      "source": [
        "IF BLOCK\n"
      ]
    },
    {
      "cell_type": "code",
      "metadata": {
        "id": "hBvQbpwEN1ix"
      },
      "source": [
        " hours_per_week=14\n",
        " my_name=\"computer\""
      ],
      "execution_count": null,
      "outputs": []
    },
    {
      "cell_type": "code",
      "metadata": {
        "colab": {
          "base_uri": "https://localhost:8080/"
        },
        "id": "z9tglkB3OBTb",
        "outputId": "cf5213a7-e116-4ffd-f161-02dac2529a77"
      },
      "source": [
        "if hours_per_week>10:\n",
        "  print(my_name+\" is doing good\")\n",
        "print(\"Outside If\")"
      ],
      "execution_count": null,
      "outputs": [
        {
          "output_type": "stream",
          "text": [
            "computer is doing good\n",
            "Outside If\n"
          ],
          "name": "stdout"
        }
      ]
    },
    {
      "cell_type": "code",
      "metadata": {
        "colab": {
          "base_uri": "https://localhost:8080/"
        },
        "id": "aA9qTYz0NyIP",
        "outputId": "5df065a8-32b0-47f3-d87b-48377f6c1eec"
      },
      "source": [
        "if hours_per_week<10:\n",
        "  print(my_name+\" is doing good\")\n",
        "print(\"Outside If\")"
      ],
      "execution_count": null,
      "outputs": [
        {
          "output_type": "stream",
          "text": [
            "Outside If\n"
          ],
          "name": "stdout"
        }
      ]
    },
    {
      "cell_type": "code",
      "metadata": {
        "colab": {
          "base_uri": "https://localhost:8080/"
        },
        "id": "19oNjlLKPzAm",
        "outputId": "496331ec-f066-42e9-ac09-e39156d0d58a"
      },
      "source": [
        "if hours_per_week<10:\n",
        "  print(my_name+\" is doing good\")\n",
        "else:\n",
        " print(\"Outside If\")"
      ],
      "execution_count": null,
      "outputs": [
        {
          "output_type": "stream",
          "text": [
            "Outside If\n"
          ],
          "name": "stdout"
        }
      ]
    },
    {
      "cell_type": "code",
      "metadata": {
        "colab": {
          "base_uri": "https://localhost:8080/"
        },
        "id": "EtvWZrF7QAXw",
        "outputId": "7b0b354b-4396-4d7e-b955-bf8837ef8b79"
      },
      "source": [
        "if hours_per_week>10:\n",
        "  print(my_name+\" is doing good\")\n",
        "else:\n",
        " print(\"Outside If\")"
      ],
      "execution_count": null,
      "outputs": [
        {
          "output_type": "stream",
          "text": [
            "computer is doing good\n"
          ],
          "name": "stdout"
        }
      ]
    },
    {
      "cell_type": "markdown",
      "metadata": {
        "id": "cRjxekloQDK0"
      },
      "source": [
        "FOR LOOP\n"
      ]
    },
    {
      "cell_type": "code",
      "metadata": {
        "colab": {
          "base_uri": "https://localhost:8080/"
        },
        "id": "9yk7qI6vQE00",
        "outputId": "9619e355-0013-45e4-e80f-87b32bdbebe9"
      },
      "source": [
        "for i in range (5):\n",
        "  print(i)"
      ],
      "execution_count": null,
      "outputs": [
        {
          "output_type": "stream",
          "text": [
            "0\n",
            "1\n",
            "2\n",
            "3\n",
            "4\n"
          ],
          "name": "stdout"
        }
      ]
    },
    {
      "cell_type": "code",
      "metadata": {
        "id": "MUXWxat3RQnd"
      },
      "source": [
        "range?"
      ],
      "execution_count": null,
      "outputs": []
    },
    {
      "cell_type": "code",
      "metadata": {
        "colab": {
          "base_uri": "https://localhost:8080/"
        },
        "id": "yzdgxUwIRg4z",
        "outputId": "0f47f3f4-79a4-49a8-95cf-21eec8eb0d57"
      },
      "source": [
        "for i in range(5):\n",
        "  print (i,i**2)"
      ],
      "execution_count": null,
      "outputs": [
        {
          "output_type": "stream",
          "text": [
            "0 0\n",
            "1 1\n",
            "2 4\n",
            "3 9\n",
            "4 16\n"
          ],
          "name": "stdout"
        }
      ]
    },
    {
      "cell_type": "code",
      "metadata": {
        "colab": {
          "base_uri": "https://localhost:8080/"
        },
        "id": "YFhop2OVR9PV",
        "outputId": "178b4d08-c6a5-4d5a-a1aa-64cc419c4cea"
      },
      "source": [
        "for i in range(2,5):\n",
        "  print (i,i**2)"
      ],
      "execution_count": null,
      "outputs": [
        {
          "output_type": "stream",
          "text": [
            "2 4\n",
            "3 9\n",
            "4 16\n"
          ],
          "name": "stdout"
        }
      ]
    },
    {
      "cell_type": "code",
      "metadata": {
        "colab": {
          "base_uri": "https://localhost:8080/"
        },
        "id": "j91iXnzSSB-D",
        "outputId": "9b9850d6-3554-4f93-d556-50e61a1a0a68"
      },
      "source": [
        "for i in range(2,5,2):\n",
        "  print (i,i**2)"
      ],
      "execution_count": null,
      "outputs": [
        {
          "output_type": "stream",
          "text": [
            "2 4\n",
            "4 16\n"
          ],
          "name": "stdout"
        }
      ]
    },
    {
      "cell_type": "code",
      "metadata": {
        "colab": {
          "base_uri": "https://localhost:8080/"
        },
        "id": "EPx-9b6ESeez",
        "outputId": "4d0af06a-a2a6-4b0d-aeff-ef80a31c1102"
      },
      "source": [
        "for i in range(2,15,3):\n",
        "  print (i,i**2)"
      ],
      "execution_count": null,
      "outputs": [
        {
          "output_type": "stream",
          "text": [
            "2 4\n",
            "5 25\n",
            "8 64\n",
            "11 121\n",
            "14 196\n"
          ],
          "name": "stdout"
        }
      ]
    },
    {
      "cell_type": "markdown",
      "metadata": {
        "id": "DgJAfdXcY5oO"
      },
      "source": [
        "FIBNOCCI SERIES\n"
      ]
    },
    {
      "cell_type": "code",
      "metadata": {
        "colab": {
          "base_uri": "https://localhost:8080/"
        },
        "id": "1pO88yQtSnQP",
        "outputId": "0fb53ba8-c316-45c7-ec86-42712dd1f853"
      },
      "source": [
        "def fib(n):\n",
        "    a = 0\n",
        "    b = 1\n",
        "    if n == 1:\n",
        "        print(a)\n",
        "    else:\n",
        "        print(a)\n",
        "        print(b)\n",
        "        for i in range(2,n):\n",
        "            c = a + b\n",
        "            a = b\n",
        "            b = c\n",
        "            print(c)\n",
        "fib(10)\n",
        "\n"
      ],
      "execution_count": null,
      "outputs": [
        {
          "output_type": "stream",
          "text": [
            "0\n",
            "1\n",
            "1\n",
            "2\n",
            "3\n",
            "5\n",
            "8\n",
            "13\n",
            "21\n",
            "34\n"
          ],
          "name": "stdout"
        }
      ]
    },
    {
      "cell_type": "code",
      "metadata": {
        "id": "TnpOHWUUabaA"
      },
      "source": [
        ""
      ],
      "execution_count": null,
      "outputs": []
    },
    {
      "cell_type": "markdown",
      "metadata": {
        "id": "6sWNdk2xaXug"
      },
      "source": [
        "WHILE LOOP\n"
      ]
    },
    {
      "cell_type": "code",
      "metadata": {
        "colab": {
          "base_uri": "https://localhost:8080/"
        },
        "id": "GWt_R_Oaae64",
        "outputId": "62e27e85-201e-4c09-cffa-2434d0db52b7"
      },
      "source": [
        "a=1\n",
        "b=1\n",
        "while b<500:\n",
        "  temp=a+b\n",
        "  a=b\n",
        "  b=temp\n",
        "  print(temp)\n",
        "print(\"printed\",i,\"numbers\")"
      ],
      "execution_count": null,
      "outputs": [
        {
          "output_type": "stream",
          "text": [
            "2\n",
            "3\n",
            "5\n",
            "8\n",
            "13\n",
            "21\n",
            "34\n",
            "55\n",
            "89\n",
            "144\n",
            "233\n",
            "377\n",
            "610\n",
            "printed 14 numbers\n"
          ],
          "name": "stdout"
        }
      ]
    },
    {
      "cell_type": "code",
      "metadata": {
        "id": "lZztv4_oa2YY"
      },
      "source": [
        ""
      ],
      "execution_count": null,
      "outputs": []
    }
  ]
}